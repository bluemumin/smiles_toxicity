{
 "cells": [
  {
   "cell_type": "markdown",
   "metadata": {},
   "source": [
    "# 기본 세팅"
   ]
  },
  {
   "cell_type": "code",
   "execution_count": 3,
   "metadata": {
    "ExecuteTime": {
     "end_time": "2020-04-13T11:22:56.138605Z",
     "start_time": "2020-04-13T11:22:54.825698Z"
    }
   },
   "outputs": [
    {
     "name": "stderr",
     "output_type": "stream",
     "text": [
      "RDKit WARNING: [20:22:55] Enabling RDKit 2019.09.3 jupyter extensions\n"
     ]
    }
   ],
   "source": [
    "import os\n",
    "import numpy as np\n",
    "\n",
    "import pandas as pd\n",
    "from pandas import DataFrame\n",
    "pd.set_option('max_rows',500)\n",
    "pd.set_option('display.max_columns', 30)\n",
    "\n",
    "from collections import Counter\n",
    "from tqdm import tqdm, tqdm_notebook\n",
    "\n",
    "import warnings\n",
    "warnings.filterwarnings(action='ignore')\n",
    "from __future__ import print_function\n",
    "\n",
    "#smiles 분자코드 변환 라이브러리 rdkit 중 일부 사용\n",
    "from rdkit.Chem import MolFromSmiles, Descriptors\n",
    "from rdkit.Chem.AllChem import GetHashedAtomPairFingerprintAsBitVect\n",
    "from rdkit.Chem.AllChem import GetHashedTopologicalTorsionFingerprintAsBitVect\n",
    "# from rdkit.Chem.Draw import IPythonColsole\n",
    "\n",
    "import lightgbm as lgbm # lightgbm 부스팅 알고리즘 사용\n",
    "\n",
    "from sklearn.model_selection import StratifiedKFold\n",
    "from sklearn.metrics import roc_auc_score, classification_report, confusion_matrix, f1_score, accuracy_score\n",
    "\n",
    "# lgb 전용 f1 score 계산 수식\n",
    "def lgb_f1_score(y_hat, data):\n",
    "    y_true = data.get_label()\n",
    "    y_hat = np.round(y_hat) # scikits f1 doesn't like probabilities\n",
    "    return 'f1', f1_score(y_true, y_hat), True"
   ]
  },
  {
   "cell_type": "markdown",
   "metadata": {},
   "source": [
    "# EDA"
   ]
  },
  {
   "cell_type": "code",
   "execution_count": 1,
   "metadata": {
    "ExecuteTime": {
     "end_time": "2022-01-26T13:43:18.406487Z",
     "start_time": "2022-01-26T13:43:18.389465Z"
    }
   },
   "outputs": [],
   "source": [
    "train = pd.read_csv(\"train.csv\")\n",
    "# train.head()\n",
    "\n",
    "#smiles 코드 분자에서 벡터 값으로 변환되는 기존 3가지 이외에 다른 2가지 방식 추가\n",
    "\n",
    "agg = {}\n",
    "\n",
    "for i in tqdm( range(len( train['SMILES']) ) ) :\n",
    "    m1 = MolFromSmiles( train['SMILES'][i] )\n",
    "    tt = DataFrame( list( GetHashedAtomPairFingerprintAsBitVect(m1,nBits=1024,includeChirality=True) ) )\n",
    "    agg[i] = tt.T\n",
    "    \n",
    "result = pd.concat(agg).reset_index(drop=True)\n",
    "\n",
    "agg11 = {}\n",
    "\n",
    "for i in tqdm( range(len( train['SMILES']) ) ) :\n",
    "    m1 = MolFromSmiles( train['SMILES'][i] )\n",
    "    tt = DataFrame( list( GetHashedTopologicalTorsionFingerprintAsBitVect(m1,nBits=1024,includeChirality=True)  ) )\n",
    "    agg11[i] = tt.T\n",
    "    \n",
    "result11 = pd.concat(agg11).reset_index(drop=True)\n",
    "\n",
    "for i in tqdm( range(result11.shape[1])) :\n",
    "    result11 = result11.rename(columns={result11.columns[i]: 'k'+str(result11.columns[i])})\n",
    "    \n",
    "\n",
    "#smiles 코드 분자에서 성분값을 추가로 반환해주는 라이브러리 함수 사용\n",
    "\n",
    "BJ = [Descriptors.BalabanJ(Chem.MolFromSmiles(i) ) for i in train['SMILES'] ]\n",
    "\n",
    "BCT = [Descriptors.BertzCT(Chem.MolFromSmiles(i) ) for i in train['SMILES'] ]\n",
    "\n",
    "Ch = [Descriptors.Chi0(Chem.MolFromSmiles(i) ) for i in train['SMILES'] ]\n",
    "\n",
    "FDM = [Descriptors.FpDensityMorgan1(Chem.MolFromSmiles(i) ) for i in train['SMILES'] ]\n",
    "\n",
    "HM = [Descriptors.HeavyAtomMolWt(Chem.MolFromSmiles(i) ) for i in train['SMILES'] ]\n",
    "\n",
    "IPC = [Descriptors.Ipc(Chem.MolFromSmiles(i) ) for i in train['SMILES'] ]\n",
    "\n",
    "MR = [Descriptors.MolMR(Chem.MolFromSmiles(i) ) for i in train['SMILES'] ]\n",
    "\n",
    "SMR = [Descriptors.SMR_VSA10(Chem.MolFromSmiles(i) ) for i in train['SMILES'] ]\n",
    "\n",
    "SV = [Descriptors.SlogP_VSA10(Chem.MolFromSmiles(i) ) for i in train['SMILES'] ]\n",
    "\n",
    "TS = [Descriptors.TPSA(Chem.MolFromSmiles(i) ) for i in train['SMILES'] ]\n",
    "\n",
    "new = DataFrame( list(zip( IPC, MR, TS, SMR, Ch, FDM, HM, BJ, BCT, SV )) ,\n",
    "           columns=['IPC', 'MR', 'TS', 'SMR', 'Ch', 'FDM', 'HM', 'BJ', 'BCT', 'SV'])\n",
    "    \n",
    "train2 = train.copy()\n",
    "train_total = pd.concat([train2, result, result11, new], axis=1).reset_index(drop=True)\n",
    "train_total = train_total.astype(np.float64)\n",
    "\n",
    "## test 데이터는 이름 제외, 결과 동일로 코드 생략\n",
    "\n",
    "# 최종 모델링 용 Dataset\n",
    "# (1024 * 5)(분자 코드 벡터화 1024열 * 5개 방식) + 4(기존 변수) + 10(추가 변수) = 5134개 독립 변수 사용\n",
    "train_set = train_total.iloc[:, :5134] \n",
    "train_label = train['label'] #반응변수 분리\n",
    "test_set = predict_total.copy()"
   ]
  },
  {
   "cell_type": "markdown",
   "metadata": {},
   "source": [
    "# 모델링"
   ]
  },
  {
   "cell_type": "code",
   "execution_count": 2,
   "metadata": {
    "ExecuteTime": {
     "end_time": "2022-01-26T13:43:30.103626Z",
     "start_time": "2022-01-26T13:43:30.095627Z"
    }
   },
   "outputs": [],
   "source": [
    "NUM_BOOST_ROUND = 10000\n",
    "n_splits = 10\n",
    "SEED = 1217\n",
    "\n",
    "#파라미터 설정은 기본 세팅 이후, 하나씩 값 변경해가며 수행\n",
    "lgbm_param = {\n",
    "    'objective': 'binary',\n",
    "    'boosting_type': 'gbdt',\n",
    "    'random_state': 1217,\n",
    "    'learning_rate': 0.065,\n",
    "    'subsample': 0.9,\n",
    "    'colsample_bytree': 0.8,\n",
    "    'early_stopping_rounds': 200,\n",
    "    'subsample_freq': 3,\n",
    "    'reg_lambda': 2,\n",
    "    'reg_alpha': 5,\n",
    "    'num_leaves': 1023,\n",
    "    'scale_pos_weight': 1.25\n",
    "}\n",
    "\n",
    "#결과 저장 part\n",
    "evals_result = {}\n",
    "train_f1 = []\n",
    "valid_f1 = []\n",
    "final_test = np.zeros( test_set.shape[0] )\n",
    "\n",
    "kfolds = StratifiedKFold(n_splits=n_splits, random_state=SEED, shuffle=True)\n",
    "\n",
    "#10-fold 수행 part\n",
    "for ind, (trn_ind, val_ind) in tqdm_notebook(\n",
    "        enumerate(kfolds.split(X=train_set, y=train_label))):\n",
    "\n",
    "    X_train, y_train = train_set.iloc[trn_ind], train_label[trn_ind]\n",
    "    X_valid, y_valid = train_set.iloc[val_ind], train_label[val_ind]\n",
    "\n",
    "    dtrain = lgbm.Dataset(X_train, y_train)\n",
    "    dvalid = lgbm.Dataset(X_valid, y_valid, reference=dtrain)\n",
    "\n",
    "    model = lgbm.train(lgbm_param,\n",
    "                       dtrain,\n",
    "                       NUM_BOOST_ROUND,\n",
    "                       valid_sets=(dtrain, dvalid),\n",
    "                       valid_names=('train', 'valid'),\n",
    "                       verbose_eval=200,\n",
    "                       feval=lgb_f1_score,\n",
    "                       evals_result=evals_result)\n",
    "\n",
    "    train_x_predict = model.predict(X_train)\n",
    "    train_x_predict_binary = [1 if i >= 0.5 else 0 for i in train_x_predict]\n",
    "    train_f1.append(f1_score(y_train, train_x_predict_binary))\n",
    "\n",
    "    valid_x_predict = model.predict(X_valid)\n",
    "    valid_x_predict_binary = [1 if i >= 0.5 else 0 for i in valid_x_predict]\n",
    "    valid_f1.append(f1_score(y_valid, valid_x_predict_binary))\n",
    "\n",
    "    test_pred = model.predict(test_set)\n",
    "    final_test += test_pred\n",
    "\n",
    "    print('=' * 80)"
   ]
  },
  {
   "cell_type": "code",
   "execution_count": null,
   "metadata": {
    "ExecuteTime": {
     "end_time": "2022-01-26T14:21:49.121439Z",
     "start_time": "2022-01-26T14:21:49.112440Z"
    },
    "colab": {
     "base_uri": "https://localhost:8080/",
     "height": 35
    },
    "colab_type": "code",
    "executionInfo": {
     "elapsed": 1041,
     "status": "ok",
     "timestamp": 1580951067908,
     "user": {
      "displayName": "푸른무민",
      "photoUrl": "https://lh3.googleusercontent.com/a-/AAuE7mBASb0FLXFYVJAQ9Kj0JIphxaHE8yRgV4yH0e50=s64",
      "userId": "16914656486210635361"
     },
     "user_tz": -540
    },
    "id": "N_u5dibYrQnP",
    "outputId": "09121ebf-9026-4a51-d75e-722e6ee48d40"
   },
   "outputs": [],
   "source": [
    "y_pred = model.predict(X_train)\n",
    "print(roc_auc_score(y_train, y_pred))\n",
    "\n",
    "train_pred2 = [1 if i >= 0.5 else 0 for i in y_pred]\n",
    "print(Counter(train_pred2))\n",
    "print(confusion_matrix(y_train, train_pred2))\n",
    "print(classification_report(y_train, train_pred2, digits=4))"
   ]
  },
  {
   "cell_type": "code",
   "execution_count": null,
   "metadata": {
    "ExecuteTime": {
     "end_time": "2022-01-26T14:21:49.121439Z",
     "start_time": "2022-01-26T14:21:49.112440Z"
    },
    "colab": {
     "base_uri": "https://localhost:8080/",
     "height": 35
    },
    "colab_type": "code",
    "executionInfo": {
     "elapsed": 1041,
     "status": "ok",
     "timestamp": 1580951067908,
     "user": {
      "displayName": "푸른무민",
      "photoUrl": "https://lh3.googleusercontent.com/a-/AAuE7mBASb0FLXFYVJAQ9Kj0JIphxaHE8yRgV4yH0e50=s64",
      "userId": "16914656486210635361"
     },
     "user_tz": -540
    },
    "id": "N_u5dibYrQnP",
    "outputId": "09121ebf-9026-4a51-d75e-722e6ee48d40"
   },
   "outputs": [],
   "source": [
    "valid_pred = model.predict(X_valid)\n",
    "print(roc_auc_score(y_valid, valid_pred))\n",
    "\n",
    "valid_pred2 = [1 if i >= 0.5 else 0 for i in valid_pred]\n",
    "print(Counter(valid_pred2))\n",
    "print(confusion_matrix(y_valid, valid_pred2))\n",
    "print(classification_report(y_valid, valid_pred2, digits=4))"
   ]
  },
  {
   "cell_type": "code",
   "execution_count": 5,
   "metadata": {
    "ExecuteTime": {
     "end_time": "2022-01-26T14:21:49.121439Z",
     "start_time": "2022-01-26T14:21:49.112440Z"
    },
    "colab": {
     "base_uri": "https://localhost:8080/",
     "height": 35
    },
    "colab_type": "code",
    "executionInfo": {
     "elapsed": 1041,
     "status": "ok",
     "timestamp": 1580951067908,
     "user": {
      "displayName": "푸른무민",
      "photoUrl": "https://lh3.googleusercontent.com/a-/AAuE7mBASb0FLXFYVJAQ9Kj0JIphxaHE8yRgV4yH0e50=s64",
      "userId": "16914656486210635361"
     },
     "user_tz": -540
    },
    "id": "N_u5dibYrQnP",
    "outputId": "09121ebf-9026-4a51-d75e-722e6ee48d40"
   },
   "outputs": [],
   "source": [
    "real_final = final_test / n_splits\n",
    "test_predict = [1 if i >= 0.5 else 0 for i in real_final]\n",
    "print(Counter(test_predict))\n",
    "\n",
    "real_pred = DataFrame(predict['SMILES'])\n",
    "real_pred['label'] = test_predict\n",
    "\n",
    "real_pred.to_csv(\"최종결과물.csv\", index=False)"
   ]
  }
 ],
 "metadata": {
  "hide_input": false,
  "kernelspec": {
   "display_name": "Python 3",
   "language": "python",
   "name": "python3"
  },
  "language_info": {
   "codemirror_mode": {
    "name": "ipython",
    "version": 3
   },
   "file_extension": ".py",
   "mimetype": "text/x-python",
   "name": "python",
   "nbconvert_exporter": "python",
   "pygments_lexer": "ipython3",
   "version": "3.8.5"
  },
  "toc": {
   "base_numbering": 1,
   "nav_menu": {},
   "number_sections": true,
   "sideBar": true,
   "skip_h1_title": false,
   "title_cell": "Table of Contents",
   "title_sidebar": "Contents",
   "toc_cell": false,
   "toc_position": {
    "height": "calc(100% - 180px)",
    "left": "10px",
    "top": "150px",
    "width": "307.2px"
   },
   "toc_section_display": true,
   "toc_window_display": true
  },
  "varInspector": {
   "cols": {
    "lenName": 16,
    "lenType": 16,
    "lenVar": 40
   },
   "kernels_config": {
    "python": {
     "delete_cmd_postfix": "",
     "delete_cmd_prefix": "del ",
     "library": "var_list.py",
     "varRefreshCmd": "print(var_dic_list())"
    },
    "r": {
     "delete_cmd_postfix": ") ",
     "delete_cmd_prefix": "rm(",
     "library": "var_list.r",
     "varRefreshCmd": "cat(var_dic_list()) "
    }
   },
   "types_to_exclude": [
    "module",
    "function",
    "builtin_function_or_method",
    "instance",
    "_Feature"
   ],
   "window_display": false
  }
 },
 "nbformat": 4,
 "nbformat_minor": 2
}
